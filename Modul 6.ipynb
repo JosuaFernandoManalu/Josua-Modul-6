{
 "cells": [
  {
   "cell_type": "code",
   "execution_count": 25,
   "id": "f73d6255-6fe4-4722-8c91-4cf81f2062c3",
   "metadata": {},
   "outputs": [
    {
     "name": "stdin",
     "output_type": "stream",
     "text": [
      "masukkan nilai a: 1.3\n",
      "masukkan nilai b: 3\n",
      "masukkan nilai c: 5\n"
     ]
    },
    {
     "name": "stdout",
     "output_type": "stream",
     "text": [
      "nilai rata_rata adalah 5.966666666666667\n"
     ]
    }
   ],
   "source": [
    "def ratarata(a,b,c):\n",
    "    rata_rata = (a + b + c)/3\n",
    "    return rata_rata\n",
    "\n",
    "a=float(input(\"masukkan nilai a:\"))\n",
    "b=float(input(\"masukkan nilai b:\"))\n",
    "c=float(input(\"masukkan nilai c:\"))\n",
    "\n",
    "jumlah= rata_rata(a,b,c)\n",
    "\n",
    "print(\"nilai rata_rata adalah\", jumlah)\n",
    "      "
   ]
  },
  {
   "cell_type": "code",
   "execution_count": 29,
   "id": "a7240429-62ed-466e-b074-d68e30f7a8ca",
   "metadata": {},
   "outputs": [
    {
     "name": "stdin",
     "output_type": "stream",
     "text": [
      "masukan bulan(1-12):  2\n",
      "masukan tahun 2019\n"
     ]
    },
    {
     "name": "stdout",
     "output_type": "stream",
     "text": [
      "jumlah hari dalam bulan 2 tahun 2019 adalah 28 hari\n"
     ]
    }
   ],
   "source": [
    "def jumlah_hari(bulan, tahun):\n",
    "    hari_per_bulan = (31,28,31,30,31,30,31,31,30,31,30,31)\n",
    "\n",
    "    if(tahun % 4==0 and tahun %100 != 0) or (tahun% 400 ==0):\n",
    "        hari_per_bulan[1] = 29\n",
    "\n",
    "    return hari_per_bulan[bulan-1]\n",
    "\n",
    "bulan=0\n",
    "tahun=0\n",
    "\n",
    "while bulan < 1 or bulan >12:\n",
    "    try:\n",
    "        bulan = int(input('masukan bulan(1-12): '))\n",
    "    except ValueError:\n",
    "        print('input tidak valid, masukan angka kembali')\n",
    "\n",
    "while tahun <=0:\n",
    "    try:\n",
    "        tahun = int(input('masukan tahun'))\n",
    "    except ValueError:\n",
    "        print('input tidak valid, masukan angka kembali')\n",
    "\n",
    "jumlah = jumlah_hari(bulan, tahun)\n",
    "\n",
    "print(f'jumlah hari dalam bulan {bulan} tahun {tahun} adalah {jumlah} hari')\n"
   ]
  },
  {
   "cell_type": "code",
   "execution_count": null,
   "id": "60a6695d-da51-447b-a5a7-8b7763234c6f",
   "metadata": {},
   "outputs": [],
   "source": []
  }
 ],
 "metadata": {
  "kernelspec": {
   "display_name": "Python 3 (ipykernel)",
   "language": "python",
   "name": "python3"
  },
  "language_info": {
   "codemirror_mode": {
    "name": "ipython",
    "version": 3
   },
   "file_extension": ".py",
   "mimetype": "text/x-python",
   "name": "python",
   "nbconvert_exporter": "python",
   "pygments_lexer": "ipython3",
   "version": "3.12.4"
  }
 },
 "nbformat": 4,
 "nbformat_minor": 5
}
